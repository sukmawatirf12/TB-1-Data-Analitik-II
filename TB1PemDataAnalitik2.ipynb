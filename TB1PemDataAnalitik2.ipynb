{
  "cells": [
    {
      "cell_type": "markdown",
      "id": "2a4c1d07",
      "metadata": {
        "id": "2a4c1d07"
      },
      "source": [
        "# Tugas Besar 1 Pemrograman Data Analitik 2 \n"
      ]
    },
    {
      "cell_type": "markdown",
      "id": "b42308b7",
      "metadata": {
        "id": "b42308b7"
      },
      "source": [
        "Nama : Sukmawati Rizki Firdaus\n",
        "Nim  : 41820010127"
      ]
    },
    {
      "cell_type": "markdown",
      "id": "4b70786c",
      "metadata": {
        "id": "4b70786c"
      },
      "source": [
        "# Dataset yang digunakan adalah dataset Earthquake.csv dengan keterangan seperti di bawah:\n",
        "The data contains intensity of earthquake per year, include date and year and also intensity of earthquake as follow.\n",
        "\n",
        "* **date** - Date Identifier\n",
        "* **Year** - Year Identifier\n",
        "* **earthquakes_per_years** - intensity of earthquake\n",
        "\n"
      ]
    },
    {
      "cell_type": "markdown",
      "id": "210608fd",
      "metadata": {
        "id": "210608fd"
      },
      "source": [
        "Merujuk kepada tugas Air Passenger\n",
        "1. Buatlah grafik yang menggambarkan plot earthquake dengan waktu terjadinya gempa.\n",
        "2. Buatlah grafik Autokorelasi fungsi nya dan jelaskan dengan bahasa Anda sendiri apa meaning dari grafik tersebut.\n",
        "3. Buatlah grafik Partial Autokorelasinya dan jelaskan dengan bahasa Anda sendiri apa meaning dari grafik tersebut.\n",
        "4. Lakukan uji stasioneritas dengan menggunakan statistika adfuller\n",
        "    a. Nilai Uji statistika\n",
        "    b. Nilai p-value\n",
        "    c. Nilai Krikital\n",
        "5. Tentukan dari data himpunan berikut:\n",
        "    a. Trend\n",
        "    b. Seasonal\n",
        "    c. Residual\n",
        "6. Dengan menggunakan data pada soal no 5 buatlah plot grafik yang menggambarkan:\n",
        "    a. Trend\n",
        "    b.Seasonal\n",
        "    c. Residual\n",
        "7. Buatlah model ARIMA dari data earthquake. Dari nilai AIC tentukan Best model untuk kasus ini.Munculkan ringakasan uji statistikanya seperti gambar di bawah\n",
        "![image.png](attachment:image.png)\n"
      ]
    },
    {
      "cell_type": "markdown",
      "id": "32253475",
      "metadata": {
        "id": "32253475"
      },
      "source": [
        "8. Ujilah model Anda dan berikan hasil ringkasan dari uji statistika seperti gambar di bawah ini.\n",
        "![image.png](attachment:image.png)"
      ]
    },
    {
      "cell_type": "markdown",
      "id": "e2aa2565",
      "metadata": {
        "id": "e2aa2565"
      },
      "source": [
        "9. Lakukan prediksi dari kasus yang Ada dengan model ARIMA yang Anda buat, lalu buatlah plot hasil prediksinya seperti gambar di bawah ini:\n",
        "![image.png](attachment:image.png)"
      ]
    },
    {
      "cell_type": "markdown",
      "id": "9cb536ff",
      "metadata": {
        "id": "9cb536ff"
      },
      "source": [
        "10. Dengan model yang telah Anda buat di atas lakukan forecast (ramalan) tentang gempa bumi pada peride yang akan datang dan \n",
        "buatlah plotnya seperti gambar di bawah ini.\n",
        "![image.png](attachment:image.png)\n"
      ]
    },
    {
      "cell_type": "code",
      "execution_count": null,
      "id": "bf98c0db",
      "metadata": {
        "id": "bf98c0db",
        "colab": {
          "base_uri": "https://localhost:8080/",
          "height": 38
        },
        "outputId": "5a3923c4-13da-499e-9aee-94f30e421c66"
      },
      "outputs": [
        {
          "output_type": "display_data",
          "data": {
            "text/plain": [
              "<IPython.core.display.HTML object>"
            ],
            "text/html": [
              "\n",
              "     <input type=\"file\" id=\"files-50e74aa5-a89b-4f0a-ac64-b68ed970a8da\" name=\"files[]\" multiple disabled\n",
              "        style=\"border:none\" />\n",
              "     <output id=\"result-50e74aa5-a89b-4f0a-ac64-b68ed970a8da\">\n",
              "      Upload widget is only available when the cell has been executed in the\n",
              "      current browser session. Please rerun this cell to enable.\n",
              "      </output>\n",
              "      <script>// Copyright 2017 Google LLC\n",
              "//\n",
              "// Licensed under the Apache License, Version 2.0 (the \"License\");\n",
              "// you may not use this file except in compliance with the License.\n",
              "// You may obtain a copy of the License at\n",
              "//\n",
              "//      http://www.apache.org/licenses/LICENSE-2.0\n",
              "//\n",
              "// Unless required by applicable law or agreed to in writing, software\n",
              "// distributed under the License is distributed on an \"AS IS\" BASIS,\n",
              "// WITHOUT WARRANTIES OR CONDITIONS OF ANY KIND, either express or implied.\n",
              "// See the License for the specific language governing permissions and\n",
              "// limitations under the License.\n",
              "\n",
              "/**\n",
              " * @fileoverview Helpers for google.colab Python module.\n",
              " */\n",
              "(function(scope) {\n",
              "function span(text, styleAttributes = {}) {\n",
              "  const element = document.createElement('span');\n",
              "  element.textContent = text;\n",
              "  for (const key of Object.keys(styleAttributes)) {\n",
              "    element.style[key] = styleAttributes[key];\n",
              "  }\n",
              "  return element;\n",
              "}\n",
              "\n",
              "// Max number of bytes which will be uploaded at a time.\n",
              "const MAX_PAYLOAD_SIZE = 100 * 1024;\n",
              "\n",
              "function _uploadFiles(inputId, outputId) {\n",
              "  const steps = uploadFilesStep(inputId, outputId);\n",
              "  const outputElement = document.getElementById(outputId);\n",
              "  // Cache steps on the outputElement to make it available for the next call\n",
              "  // to uploadFilesContinue from Python.\n",
              "  outputElement.steps = steps;\n",
              "\n",
              "  return _uploadFilesContinue(outputId);\n",
              "}\n",
              "\n",
              "// This is roughly an async generator (not supported in the browser yet),\n",
              "// where there are multiple asynchronous steps and the Python side is going\n",
              "// to poll for completion of each step.\n",
              "// This uses a Promise to block the python side on completion of each step,\n",
              "// then passes the result of the previous step as the input to the next step.\n",
              "function _uploadFilesContinue(outputId) {\n",
              "  const outputElement = document.getElementById(outputId);\n",
              "  const steps = outputElement.steps;\n",
              "\n",
              "  const next = steps.next(outputElement.lastPromiseValue);\n",
              "  return Promise.resolve(next.value.promise).then((value) => {\n",
              "    // Cache the last promise value to make it available to the next\n",
              "    // step of the generator.\n",
              "    outputElement.lastPromiseValue = value;\n",
              "    return next.value.response;\n",
              "  });\n",
              "}\n",
              "\n",
              "/**\n",
              " * Generator function which is called between each async step of the upload\n",
              " * process.\n",
              " * @param {string} inputId Element ID of the input file picker element.\n",
              " * @param {string} outputId Element ID of the output display.\n",
              " * @return {!Iterable<!Object>} Iterable of next steps.\n",
              " */\n",
              "function* uploadFilesStep(inputId, outputId) {\n",
              "  const inputElement = document.getElementById(inputId);\n",
              "  inputElement.disabled = false;\n",
              "\n",
              "  const outputElement = document.getElementById(outputId);\n",
              "  outputElement.innerHTML = '';\n",
              "\n",
              "  const pickedPromise = new Promise((resolve) => {\n",
              "    inputElement.addEventListener('change', (e) => {\n",
              "      resolve(e.target.files);\n",
              "    });\n",
              "  });\n",
              "\n",
              "  const cancel = document.createElement('button');\n",
              "  inputElement.parentElement.appendChild(cancel);\n",
              "  cancel.textContent = 'Cancel upload';\n",
              "  const cancelPromise = new Promise((resolve) => {\n",
              "    cancel.onclick = () => {\n",
              "      resolve(null);\n",
              "    };\n",
              "  });\n",
              "\n",
              "  // Wait for the user to pick the files.\n",
              "  const files = yield {\n",
              "    promise: Promise.race([pickedPromise, cancelPromise]),\n",
              "    response: {\n",
              "      action: 'starting',\n",
              "    }\n",
              "  };\n",
              "\n",
              "  cancel.remove();\n",
              "\n",
              "  // Disable the input element since further picks are not allowed.\n",
              "  inputElement.disabled = true;\n",
              "\n",
              "  if (!files) {\n",
              "    return {\n",
              "      response: {\n",
              "        action: 'complete',\n",
              "      }\n",
              "    };\n",
              "  }\n",
              "\n",
              "  for (const file of files) {\n",
              "    const li = document.createElement('li');\n",
              "    li.append(span(file.name, {fontWeight: 'bold'}));\n",
              "    li.append(span(\n",
              "        `(${file.type || 'n/a'}) - ${file.size} bytes, ` +\n",
              "        `last modified: ${\n",
              "            file.lastModifiedDate ? file.lastModifiedDate.toLocaleDateString() :\n",
              "                                    'n/a'} - `));\n",
              "    const percent = span('0% done');\n",
              "    li.appendChild(percent);\n",
              "\n",
              "    outputElement.appendChild(li);\n",
              "\n",
              "    const fileDataPromise = new Promise((resolve) => {\n",
              "      const reader = new FileReader();\n",
              "      reader.onload = (e) => {\n",
              "        resolve(e.target.result);\n",
              "      };\n",
              "      reader.readAsArrayBuffer(file);\n",
              "    });\n",
              "    // Wait for the data to be ready.\n",
              "    let fileData = yield {\n",
              "      promise: fileDataPromise,\n",
              "      response: {\n",
              "        action: 'continue',\n",
              "      }\n",
              "    };\n",
              "\n",
              "    // Use a chunked sending to avoid message size limits. See b/62115660.\n",
              "    let position = 0;\n",
              "    do {\n",
              "      const length = Math.min(fileData.byteLength - position, MAX_PAYLOAD_SIZE);\n",
              "      const chunk = new Uint8Array(fileData, position, length);\n",
              "      position += length;\n",
              "\n",
              "      const base64 = btoa(String.fromCharCode.apply(null, chunk));\n",
              "      yield {\n",
              "        response: {\n",
              "          action: 'append',\n",
              "          file: file.name,\n",
              "          data: base64,\n",
              "        },\n",
              "      };\n",
              "\n",
              "      let percentDone = fileData.byteLength === 0 ?\n",
              "          100 :\n",
              "          Math.round((position / fileData.byteLength) * 100);\n",
              "      percent.textContent = `${percentDone}% done`;\n",
              "\n",
              "    } while (position < fileData.byteLength);\n",
              "  }\n",
              "\n",
              "  // All done.\n",
              "  yield {\n",
              "    response: {\n",
              "      action: 'complete',\n",
              "    }\n",
              "  };\n",
              "}\n",
              "\n",
              "scope.google = scope.google || {};\n",
              "scope.google.colab = scope.google.colab || {};\n",
              "scope.google.colab._files = {\n",
              "  _uploadFiles,\n",
              "  _uploadFilesContinue,\n",
              "};\n",
              "})(self);\n",
              "</script> "
            ]
          },
          "metadata": {}
        }
      ],
      "source": [
        "from google.colab import files\n",
        "uploaded = files.upload(\n",
        ")"
      ]
    },
    {
      "cell_type": "code",
      "source": [
        "import plotly.express as px\n",
        "import pandas as pd\n",
        "import numpy as np\n",
        "import matplotlib.pyplot as plt\n",
        "import pandas as pd\n",
        "import seaborn as sns\n",
        "\n",
        "# Read in the data\n",
        "data = pd.read_csv('earthquakes.csv')\n",
        "\n",
        "# Plot the data\n",
        "fig = px.line(data, x='date', y='earthquakes_per_year',\n",
        "              labels=({'earthquakes_per_year': 'Earthquakes per year', 'date': 'Date'}))\n",
        "\n",
        "fig.update_layout(template=\"simple_white\", font=dict(size=18),\n",
        "                  title_text='Earthquakes per year', width=650,\n",
        "                  title_x=0.5, height=400)"
      ],
      "metadata": {
        "id": "ffIT87AcSRxR"
      },
      "id": "ffIT87AcSRxR",
      "execution_count": null,
      "outputs": []
    },
    {
      "cell_type": "code",
      "source": [
        "import numpy as np\n",
        "import matplotlib.pyplot as plt\n",
        "import pandas as pd\n",
        "import seaborn as sns"
      ],
      "metadata": {
        "id": "w4Jy_qm3V4MY"
      },
      "id": "w4Jy_qm3V4MY",
      "execution_count": null,
      "outputs": []
    },
    {
      "cell_type": "code",
      "source": [
        "from statsmodels.graphics.tsaplots import plot_acf\n",
        "import matplotlib.pyplot as plt\n",
        "\n",
        "# Plot autocorrelation\n",
        "plt.rc(\"figure\", figsize=(11,5))\n",
        "plot_acf(data['earthquakes_per_year'], lags=48)\n",
        "plt.ylim(0,1)\n",
        "plt.xlabel('Lags', fontsize=18)\n",
        "plt.ylabel('Correlation', fontsize=18)\n",
        "plt.xticks(fontsize=18)\n",
        "plt.yticks(fontsize=18)\n",
        "plt.title('Autocorrelation Plot', fontsize=20)\n",
        "plt.tight_layout()\n",
        "plt.show()"
      ],
      "metadata": {
        "id": "8UiH_JSNV71L"
      },
      "id": "8UiH_JSNV71L",
      "execution_count": null,
      "outputs": []
    },
    {
      "cell_type": "markdown",
      "source": [],
      "metadata": {
        "id": "uzToQgf-WyxD"
      },
      "id": "uzToQgf-WyxD"
    },
    {
      "cell_type": "code",
      "source": [
        "from statsmodels.graphics.tsaplots import plot_pacf\n",
        "plt.rc(\"figure\", figsize=(11,5))\n",
        "plot_pacf(data['earthquakes_per_year'], method='ywm')\n",
        "plt.xlabel('Lags', fontsize=18)\n",
        "plt.ylabel('Correlation', fontsize=18)\n",
        "plt.xticks(fontsize=18)\n",
        "plt.yticks(fontsize=18)\n",
        "plt.title('Partial Autocorrelation Plot', fontsize=20)\n",
        "plt.tight_layout()\n",
        "plt.show()"
      ],
      "metadata": {
        "id": "vyxWiZsZXKLJ"
      },
      "id": "vyxWiZsZXKLJ",
      "execution_count": null,
      "outputs": []
    },
    {
      "cell_type": "markdown",
      "source": [],
      "metadata": {
        "id": "1jJktiIyXTso"
      },
      "id": "1jJktiIyXTso"
    },
    {
      "cell_type": "code",
      "source": [
        "data.columns"
      ],
      "metadata": {
        "id": "dilLE3uMXUAg"
      },
      "id": "dilLE3uMXUAg",
      "execution_count": null,
      "outputs": []
    },
    {
      "cell_type": "code",
      "source": [
        "data[\"date\"]=pd.to_datetime(data[\"date\"])\n",
        "data"
      ],
      "metadata": {
        "id": "_r7jIFccZ_Vj"
      },
      "id": "_r7jIFccZ_Vj",
      "execution_count": null,
      "outputs": []
    },
    {
      "cell_type": "code",
      "source": [
        "data.dtypes"
      ],
      "metadata": {
        "id": "1w-rIoxtaOfO"
      },
      "id": "1w-rIoxtaOfO",
      "execution_count": null,
      "outputs": []
    },
    {
      "cell_type": "code",
      "source": [
        "data.set_index(\"date\",inplace=True)\n",
        "data"
      ],
      "metadata": {
        "id": "thjykg-7aUAk"
      },
      "id": "thjykg-7aUAk",
      "execution_count": null,
      "outputs": []
    },
    {
      "cell_type": "code",
      "source": [
        "plt.plot(data[\"earthquakes_per_year\"])"
      ],
      "metadata": {
        "id": "lR48Sb8JamF8"
      },
      "id": "lR48Sb8JamF8",
      "execution_count": null,
      "outputs": []
    },
    {
      "cell_type": "code",
      "source": [],
      "metadata": {
        "id": "KUPj5baTuAg7"
      },
      "id": "KUPj5baTuAg7",
      "execution_count": null,
      "outputs": []
    },
    {
      "cell_type": "code",
      "source": [
        "from statsmodels.tsa.stattools import adfuller\n",
        "adf,pvalue,usedlag_,nobs_,critical_values_,icbest_= adfuller(data)"
      ],
      "metadata": {
        "id": "E-1hVHKXa4y2"
      },
      "id": "E-1hVHKXa4y2",
      "execution_count": null,
      "outputs": []
    },
    {
      "cell_type": "code",
      "source": [
        "print(pvalue)"
      ],
      "metadata": {
        "id": "VB7F9dZNcg2w"
      },
      "id": "VB7F9dZNcg2w",
      "execution_count": null,
      "outputs": []
    },
    {
      "cell_type": "code",
      "source": [
        "print(adf)"
      ],
      "metadata": {
        "id": "pApFn2vwdIwy"
      },
      "id": "pApFn2vwdIwy",
      "execution_count": null,
      "outputs": []
    },
    {
      "cell_type": "code",
      "source": [
        "print(critical_values_)"
      ],
      "metadata": {
        "id": "qzMpsXLkdKYC"
      },
      "id": "qzMpsXLkdKYC",
      "execution_count": null,
      "outputs": []
    },
    {
      "cell_type": "code",
      "source": [
        "data[\"Year\"]=[d.year for d in data.index]\n",
        "data"
      ],
      "metadata": {
        "id": "Feccm9M4heWT"
      },
      "id": "Feccm9M4heWT",
      "execution_count": null,
      "outputs": []
    },
    {
      "cell_type": "code",
      "source": [
        "data[\"month\"]=[d.strftime('%b') for d in data.index]\n",
        "data"
      ],
      "metadata": {
        "id": "MlVfNEvChbla"
      },
      "id": "MlVfNEvChbla",
      "execution_count": null,
      "outputs": []
    },
    {
      "cell_type": "code",
      "source": [
        "sns.boxplot(x='Year',y='earthquakes_per_year',data=data)"
      ],
      "metadata": {
        "id": "cnrsufouhjTi"
      },
      "id": "cnrsufouhjTi",
      "execution_count": null,
      "outputs": []
    },
    {
      "cell_type": "code",
      "source": [
        "sns.boxplot(x='Year',y='earthquakes_per_year',data=data)"
      ],
      "metadata": {
        "id": "syA5Nu8hBDoP"
      },
      "id": "syA5Nu8hBDoP",
      "execution_count": null,
      "outputs": []
    },
    {
      "cell_type": "code",
      "source": [
        "from statsmodels.tsa.seasonal import seasonal_decompose\n",
        "decomposed=seasonal_decompose(data[\"earthquakes_per_year\"],\n",
        "                             model='additive'\n",
        "                             )"
      ],
      "metadata": {
        "id": "w73XRhyZFVlY"
      },
      "id": "w73XRhyZFVlY",
      "execution_count": null,
      "outputs": []
    },
    {
      "cell_type": "code",
      "source": [
        "trend=decomposed.trend\n",
        "sesonal=decomposed.seasonal\n",
        "residual=decomposed.resid"
      ],
      "metadata": {
        "id": "IowZoKLcFbcH"
      },
      "id": "IowZoKLcFbcH",
      "execution_count": null,
      "outputs": []
    },
    {
      "cell_type": "code",
      "source": [
        "trend"
      ],
      "metadata": {
        "id": "fCp7EgNvFh3u"
      },
      "id": "fCp7EgNvFh3u",
      "execution_count": null,
      "outputs": []
    },
    {
      "cell_type": "code",
      "source": [
        "sesonal"
      ],
      "metadata": {
        "id": "IUDbzh0LFfyb"
      },
      "id": "IUDbzh0LFfyb",
      "execution_count": null,
      "outputs": []
    },
    {
      "cell_type": "code",
      "source": [
        "residual"
      ],
      "metadata": {
        "id": "cPpOMaUnFmSf"
      },
      "id": "cPpOMaUnFmSf",
      "execution_count": null,
      "outputs": []
    },
    {
      "cell_type": "code",
      "source": [
        "plt.figure(figsize=(12,8))\n",
        "plt.subplot(411)\n",
        "plt.plot(data[\"earthquakes_per_year\"],label=\"Orginal\",color='red')\n",
        "plt.legend(loc='upper left')\n",
        "plt.subplot(412)\n",
        "plt.plot(trend,label=\"Trend\",color='red')\n",
        "plt.legend(loc='upper left')\n",
        "plt.subplot(413)\n",
        "plt.plot(sesonal,label=\"Sesonal\",color='red')\n",
        "plt.legend(loc='upper left')\n",
        "plt.subplot(414)\n",
        "plt.plot(residual,label=\"Residual\",color='red')\n",
        "plt.legend(loc='upper left')\n",
        "plt.show()"
      ],
      "metadata": {
        "id": "Za6Ll9NoFokG"
      },
      "id": "Za6Ll9NoFokG",
      "execution_count": null,
      "outputs": []
    },
    {
      "cell_type": "code",
      "source": [
        "pip install pmdarima"
      ],
      "metadata": {
        "id": "MSEEHKztF2LU"
      },
      "id": "MSEEHKztF2LU",
      "execution_count": null,
      "outputs": []
    },
    {
      "cell_type": "code",
      "source": [
        "from pmdarima.arima import auto_arima"
      ],
      "metadata": {
        "id": "cUxIAePnF5hI"
      },
      "id": "cUxIAePnF5hI",
      "execution_count": null,
      "outputs": []
    },
    {
      "cell_type": "code",
      "source": [
        "arima_model=auto_arima(data[\"earthquakes_per_year\"],start_p=1,d=1,start_q=1,\n",
        "                      max_p=5,max_q=5,max_d=5,m=12,\n",
        "                        start_P=0,D=1,start_Q=0,max_P=5,max_D=5,max_Q=5,\n",
        "                      seasonal=True,\n",
        "                       trace=True,\n",
        "                      error_action=\"ignore\",\n",
        "                      suppress_warnings=True,\n",
        "                      stepwise=True,n_fits=50)"
      ],
      "metadata": {
        "id": "5QILyQ1PF7Fq"
      },
      "id": "5QILyQ1PF7Fq",
      "execution_count": null,
      "outputs": []
    },
    {
      "cell_type": "code",
      "source": [
        "arima_model.summary()"
      ],
      "metadata": {
        "id": "irik9shqGDRI"
      },
      "id": "irik9shqGDRI",
      "execution_count": null,
      "outputs": []
    },
    {
      "cell_type": "code",
      "source": [
        "size=int(len(data)*0.66)\n",
        "X_train,X_test=data[0:size],data[size:len(data)]"
      ],
      "metadata": {
        "id": "-MC5delrGIsD"
      },
      "id": "-MC5delrGIsD",
      "execution_count": null,
      "outputs": []
    },
    {
      "cell_type": "code",
      "source": [
        "X_train.shape"
      ],
      "metadata": {
        "id": "Fm8BwzElGKnU"
      },
      "id": "Fm8BwzElGKnU",
      "execution_count": null,
      "outputs": []
    },
    {
      "cell_type": "code",
      "source": [
        "X_test.shape"
      ],
      "metadata": {
        "id": "etseBMWGGMK6"
      },
      "id": "etseBMWGGMK6",
      "execution_count": null,
      "outputs": []
    },
    {
      "cell_type": "code",
      "source": [
        "from statsmodels.tsa.statespace.sarimax import SARIMAX"
      ],
      "metadata": {
        "id": "MJyD0e0cGP-D"
      },
      "id": "MJyD0e0cGP-D",
      "execution_count": null,
      "outputs": []
    },
    {
      "cell_type": "code",
      "source": [
        "model=SARIMAX(X_train[\"earthquakes_per_year\"],\n",
        "             order=(1,1,1),\n",
        "             seasonal_order=(0,1,0,12))\n",
        "result=model.fit()\n",
        "result.summary()"
      ],
      "metadata": {
        "id": "j6tcHueWGR6s"
      },
      "id": "j6tcHueWGR6s",
      "execution_count": null,
      "outputs": []
    },
    {
      "cell_type": "code",
      "source": [
        "start_index=0\n",
        "end_index=len(X_train)-1\n",
        "train_predction=result.predict(start_index,end_index)\n",
        "train_predction"
      ],
      "metadata": {
        "id": "evydEAfpGYdz"
      },
      "id": "evydEAfpGYdz",
      "execution_count": null,
      "outputs": []
    },
    {
      "cell_type": "code",
      "source": [
        "st_index=len(X_train)\n",
        "ed_index=len(data)-1\n",
        "predction=result.predict(st_index,ed_index)\n",
        "predction"
      ],
      "metadata": {
        "id": "QAqzwFdmGawI"
      },
      "id": "QAqzwFdmGawI",
      "execution_count": null,
      "outputs": []
    },
    {
      "cell_type": "code",
      "source": [
        "predction.plot(legend=True)\n",
        "X_test[\"earthquakes_per_year\"].plot(legend=True)"
      ],
      "metadata": {
        "id": "tYtUozMPGc5j"
      },
      "id": "tYtUozMPGc5j",
      "execution_count": null,
      "outputs": []
    },
    {
      "cell_type": "code",
      "source": [
        "import math\n",
        "from sklearn.metrics import mean_squared_error"
      ],
      "metadata": {
        "id": "OqD-spJGGm8N"
      },
      "id": "OqD-spJGGm8N",
      "execution_count": null,
      "outputs": []
    },
    {
      "cell_type": "code",
      "source": [
        "trainScore=math.sqrt(mean_squared_error(X_train['earthquakes_per_year'],train_predction))\n",
        "testScore=math.sqrt(mean_squared_error(X_test[\"earthquakes_per_year\"],predction))\n",
        "trainScore,testScore"
      ],
      "metadata": {
        "id": "kSWb2YiNGocH"
      },
      "id": "kSWb2YiNGocH",
      "execution_count": null,
      "outputs": []
    },
    {
      "cell_type": "code",
      "source": [
        "forcast=result.predict(start=len(data),\n",
        "                      end=(len(data)-1)+3*12,\n",
        "                      typ=\"levels\").rename('Forecast')"
      ],
      "metadata": {
        "id": "M562Cf-tG9vg"
      },
      "id": "M562Cf-tG9vg",
      "execution_count": null,
      "outputs": []
    },
    {
      "cell_type": "code",
      "source": [
        "plt.figure(figsize=(12,8))\n",
        "plt.plot(X_train[\"earthquakes_per_years\"],label=\"Training\",color='green')\n",
        "plt.plot(X_test[\"earthquakes_per_years\"],label=\"Test\",color='blue')\n",
        "plt.plot(forcast,label=\"Forecast\",color=\"red\")\n",
        "plt.legend(loc=\"upper left\")"
      ],
      "metadata": {
        "id": "ZT4SJ7ybG_WZ"
      },
      "id": "ZT4SJ7ybG_WZ",
      "execution_count": null,
      "outputs": []
    },
    {
      "cell_type": "code",
      "source": [
        "pip install pmdarima"
      ],
      "metadata": {
        "id": "UQNy1zf1vEls"
      },
      "id": "UQNy1zf1vEls",
      "execution_count": null,
      "outputs": []
    },
    {
      "cell_type": "code",
      "source": [
        "from pmdarima.arima import auto_arima"
      ],
      "metadata": {
        "id": "gbRc4zjTvMrp"
      },
      "id": "gbRc4zjTvMrp",
      "execution_count": null,
      "outputs": []
    },
    {
      "cell_type": "code",
      "source": [
        "arima_model=auto_arima(data[\"earthquakes_per_year\"],start_p=1,d=1,start_q=1,\n",
        "                      max_p=5,max_q=5,max_d=5,m=12,\n",
        "                        start_P=0,D=1,start_Q=0,max_P=5,max_D=5,max_Q=5,\n",
        "                      seasonal=True,\n",
        "                       trace=True,\n",
        "                      error_action=\"ignore\",\n",
        "                      suppress_warnings=True,\n",
        "                      stepwise=True,n_fits=50)"
      ],
      "metadata": {
        "id": "vk6FcQzivQbe"
      },
      "id": "vk6FcQzivQbe",
      "execution_count": null,
      "outputs": []
    },
    {
      "cell_type": "code",
      "source": [
        "arima_model.summary()"
      ],
      "metadata": {
        "id": "TX_xFc7zvVKy",
        "colab": {
          "base_uri": "https://localhost:8080/",
          "height": 420
        },
        "outputId": "df547295-b7c9-4f40-8e67-d297ff1a91ce"
      },
      "id": "TX_xFc7zvVKy",
      "execution_count": 26,
      "outputs": [
        {
          "output_type": "execute_result",
          "data": {
            "text/plain": [
              "<class 'statsmodels.iolib.summary.Summary'>\n",
              "\"\"\"\n",
              "                                     SARIMAX Results                                      \n",
              "==========================================================================================\n",
              "Dep. Variable:                                  y   No. Observations:                   99\n",
              "Model:             SARIMAX(0, 1, 1)x(0, 1, 1, 12)   Log Likelihood                -294.081\n",
              "Date:                            Mon, 17 Apr 2023   AIC                            594.161\n",
              "Time:                                    01:07:03   BIC                            601.524\n",
              "Sample:                                         0   HQIC                           597.125\n",
              "                                             - 99                                         \n",
              "Covariance Type:                              opg                                         \n",
              "==============================================================================\n",
              "                 coef    std err          z      P>|z|      [0.025      0.975]\n",
              "------------------------------------------------------------------------------\n",
              "ma.L1         -0.5469      0.094     -5.812      0.000      -0.731      -0.363\n",
              "ma.S.L12      -0.7445      0.155     -4.790      0.000      -1.049      -0.440\n",
              "sigma2        48.6898      7.847      6.205      0.000      33.310      64.070\n",
              "===================================================================================\n",
              "Ljung-Box (L1) (Q):                   0.04   Jarque-Bera (JB):                 0.77\n",
              "Prob(Q):                              0.85   Prob(JB):                         0.68\n",
              "Heteroskedasticity (H):               0.76   Skew:                             0.17\n",
              "Prob(H) (two-sided):                  0.46   Kurtosis:                         3.31\n",
              "===================================================================================\n",
              "\n",
              "Warnings:\n",
              "[1] Covariance matrix calculated using the outer product of gradients (complex-step).\n",
              "\"\"\""
            ],
            "text/html": [
              "<table class=\"simpletable\">\n",
              "<caption>SARIMAX Results</caption>\n",
              "<tr>\n",
              "  <th>Dep. Variable:</th>                  <td>y</td>               <th>  No. Observations:  </th>    <td>99</td>   \n",
              "</tr>\n",
              "<tr>\n",
              "  <th>Model:</th>           <td>SARIMAX(0, 1, 1)x(0, 1, 1, 12)</td> <th>  Log Likelihood     </th> <td>-294.081</td>\n",
              "</tr>\n",
              "<tr>\n",
              "  <th>Date:</th>                   <td>Mon, 17 Apr 2023</td>        <th>  AIC                </th>  <td>594.161</td>\n",
              "</tr>\n",
              "<tr>\n",
              "  <th>Time:</th>                       <td>01:07:03</td>            <th>  BIC                </th>  <td>601.524</td>\n",
              "</tr>\n",
              "<tr>\n",
              "  <th>Sample:</th>                         <td>0</td>               <th>  HQIC               </th>  <td>597.125</td>\n",
              "</tr>\n",
              "<tr>\n",
              "  <th></th>                              <td> - 99</td>             <th>                     </th>     <td> </td>   \n",
              "</tr>\n",
              "<tr>\n",
              "  <th>Covariance Type:</th>               <td>opg</td>              <th>                     </th>     <td> </td>   \n",
              "</tr>\n",
              "</table>\n",
              "<table class=\"simpletable\">\n",
              "<tr>\n",
              "      <td></td>        <th>coef</th>     <th>std err</th>      <th>z</th>      <th>P>|z|</th>  <th>[0.025</th>    <th>0.975]</th>  \n",
              "</tr>\n",
              "<tr>\n",
              "  <th>ma.L1</th>    <td>   -0.5469</td> <td>    0.094</td> <td>   -5.812</td> <td> 0.000</td> <td>   -0.731</td> <td>   -0.363</td>\n",
              "</tr>\n",
              "<tr>\n",
              "  <th>ma.S.L12</th> <td>   -0.7445</td> <td>    0.155</td> <td>   -4.790</td> <td> 0.000</td> <td>   -1.049</td> <td>   -0.440</td>\n",
              "</tr>\n",
              "<tr>\n",
              "  <th>sigma2</th>   <td>   48.6898</td> <td>    7.847</td> <td>    6.205</td> <td> 0.000</td> <td>   33.310</td> <td>   64.070</td>\n",
              "</tr>\n",
              "</table>\n",
              "<table class=\"simpletable\">\n",
              "<tr>\n",
              "  <th>Ljung-Box (L1) (Q):</th>     <td>0.04</td> <th>  Jarque-Bera (JB):  </th> <td>0.77</td>\n",
              "</tr>\n",
              "<tr>\n",
              "  <th>Prob(Q):</th>                <td>0.85</td> <th>  Prob(JB):          </th> <td>0.68</td>\n",
              "</tr>\n",
              "<tr>\n",
              "  <th>Heteroskedasticity (H):</th> <td>0.76</td> <th>  Skew:              </th> <td>0.17</td>\n",
              "</tr>\n",
              "<tr>\n",
              "  <th>Prob(H) (two-sided):</th>    <td>0.46</td> <th>  Kurtosis:          </th> <td>3.31</td>\n",
              "</tr>\n",
              "</table><br/><br/>Warnings:<br/>[1] Covariance matrix calculated using the outer product of gradients (complex-step)."
            ]
          },
          "metadata": {},
          "execution_count": 26
        }
      ]
    },
    {
      "cell_type": "code",
      "source": [
        "size=int(len(data)*0.66)\n",
        "X_train,X_test=data[0:size],data[size:len(data)]"
      ],
      "metadata": {
        "id": "hmM5U0VpwEjW"
      },
      "id": "hmM5U0VpwEjW",
      "execution_count": 27,
      "outputs": []
    },
    {
      "cell_type": "code",
      "source": [
        "X_train.shape"
      ],
      "metadata": {
        "colab": {
          "base_uri": "https://localhost:8080/"
        },
        "id": "K2qyiskQwIBr",
        "outputId": "820099fa-32d3-4069-c620-f11b7ddff3ec"
      },
      "id": "K2qyiskQwIBr",
      "execution_count": 28,
      "outputs": [
        {
          "output_type": "execute_result",
          "data": {
            "text/plain": [
              "(65, 3)"
            ]
          },
          "metadata": {},
          "execution_count": 28
        }
      ]
    },
    {
      "cell_type": "code",
      "source": [
        "X_test.shape"
      ],
      "metadata": {
        "id": "Kcdk-ghZwK6q",
        "outputId": "1b3e640a-cf6f-4d01-fce7-da0c905890c5",
        "colab": {
          "base_uri": "https://localhost:8080/"
        }
      },
      "id": "Kcdk-ghZwK6q",
      "execution_count": 29,
      "outputs": [
        {
          "output_type": "execute_result",
          "data": {
            "text/plain": [
              "(34, 3)"
            ]
          },
          "metadata": {},
          "execution_count": 29
        }
      ]
    },
    {
      "cell_type": "code",
      "source": [
        "from statsmodels.tsa.statespace.sarimax import SARIMAX"
      ],
      "metadata": {
        "id": "y18PoeOVwNwv"
      },
      "id": "y18PoeOVwNwv",
      "execution_count": 30,
      "outputs": []
    },
    {
      "cell_type": "code",
      "source": [
        "model=SARIMAX(X_train[\"earthquakes_per_year\"],\n",
        "             order=(0,1,1),\n",
        "             seasonal_order=(2,1,0,12))\n",
        "result=model.fit()\n",
        "result.summary()"
      ],
      "metadata": {
        "id": "t_uAG43awQbU",
        "outputId": "c1147545-5894-41d2-b36a-c69f03998231",
        "colab": {
          "base_uri": "https://localhost:8080/",
          "height": 441
        }
      },
      "id": "t_uAG43awQbU",
      "execution_count": 31,
      "outputs": [
        {
          "output_type": "execute_result",
          "data": {
            "text/plain": [
              "<class 'statsmodels.iolib.summary.Summary'>\n",
              "\"\"\"\n",
              "                                      SARIMAX Results                                      \n",
              "===========================================================================================\n",
              "Dep. Variable:                earthquakes_per_year   No. Observations:                   65\n",
              "Model:             SARIMAX(0, 1, 1)x(2, 1, [], 12)   Log Likelihood                -181.784\n",
              "Date:                             Mon, 17 Apr 2023   AIC                            371.569\n",
              "Time:                                     01:07:56   BIC                            379.374\n",
              "Sample:                                          0   HQIC                           374.561\n",
              "                                              - 65                                         \n",
              "Covariance Type:                               opg                                         \n",
              "==============================================================================\n",
              "                 coef    std err          z      P>|z|      [0.025      0.975]\n",
              "------------------------------------------------------------------------------\n",
              "ma.L1         -0.5550      0.115     -4.838      0.000      -0.780      -0.330\n",
              "ar.S.L12      -0.4071      0.212     -1.924      0.054      -0.822       0.008\n",
              "ar.S.L24      -0.5166      0.205     -2.525      0.012      -0.918      -0.116\n",
              "sigma2        53.8552     12.994      4.145      0.000      28.388      79.322\n",
              "===================================================================================\n",
              "Ljung-Box (L1) (Q):                   0.18   Jarque-Bera (JB):                 0.78\n",
              "Prob(Q):                              0.67   Prob(JB):                         0.68\n",
              "Heteroskedasticity (H):               1.87   Skew:                             0.25\n",
              "Prob(H) (two-sided):                  0.21   Kurtosis:                         3.32\n",
              "===================================================================================\n",
              "\n",
              "Warnings:\n",
              "[1] Covariance matrix calculated using the outer product of gradients (complex-step).\n",
              "\"\"\""
            ],
            "text/html": [
              "<table class=\"simpletable\">\n",
              "<caption>SARIMAX Results</caption>\n",
              "<tr>\n",
              "  <th>Dep. Variable:</th>        <td>earthquakes_per_year</td>       <th>  No. Observations:  </th>    <td>65</td>   \n",
              "</tr>\n",
              "<tr>\n",
              "  <th>Model:</th>           <td>SARIMAX(0, 1, 1)x(2, 1, [], 12)</td> <th>  Log Likelihood     </th> <td>-181.784</td>\n",
              "</tr>\n",
              "<tr>\n",
              "  <th>Date:</th>                   <td>Mon, 17 Apr 2023</td>         <th>  AIC                </th>  <td>371.569</td>\n",
              "</tr>\n",
              "<tr>\n",
              "  <th>Time:</th>                       <td>01:07:56</td>             <th>  BIC                </th>  <td>379.374</td>\n",
              "</tr>\n",
              "<tr>\n",
              "  <th>Sample:</th>                         <td>0</td>                <th>  HQIC               </th>  <td>374.561</td>\n",
              "</tr>\n",
              "<tr>\n",
              "  <th></th>                              <td> - 65</td>              <th>                     </th>     <td> </td>   \n",
              "</tr>\n",
              "<tr>\n",
              "  <th>Covariance Type:</th>               <td>opg</td>               <th>                     </th>     <td> </td>   \n",
              "</tr>\n",
              "</table>\n",
              "<table class=\"simpletable\">\n",
              "<tr>\n",
              "      <td></td>        <th>coef</th>     <th>std err</th>      <th>z</th>      <th>P>|z|</th>  <th>[0.025</th>    <th>0.975]</th>  \n",
              "</tr>\n",
              "<tr>\n",
              "  <th>ma.L1</th>    <td>   -0.5550</td> <td>    0.115</td> <td>   -4.838</td> <td> 0.000</td> <td>   -0.780</td> <td>   -0.330</td>\n",
              "</tr>\n",
              "<tr>\n",
              "  <th>ar.S.L12</th> <td>   -0.4071</td> <td>    0.212</td> <td>   -1.924</td> <td> 0.054</td> <td>   -0.822</td> <td>    0.008</td>\n",
              "</tr>\n",
              "<tr>\n",
              "  <th>ar.S.L24</th> <td>   -0.5166</td> <td>    0.205</td> <td>   -2.525</td> <td> 0.012</td> <td>   -0.918</td> <td>   -0.116</td>\n",
              "</tr>\n",
              "<tr>\n",
              "  <th>sigma2</th>   <td>   53.8552</td> <td>   12.994</td> <td>    4.145</td> <td> 0.000</td> <td>   28.388</td> <td>   79.322</td>\n",
              "</tr>\n",
              "</table>\n",
              "<table class=\"simpletable\">\n",
              "<tr>\n",
              "  <th>Ljung-Box (L1) (Q):</th>     <td>0.18</td> <th>  Jarque-Bera (JB):  </th> <td>0.78</td>\n",
              "</tr>\n",
              "<tr>\n",
              "  <th>Prob(Q):</th>                <td>0.67</td> <th>  Prob(JB):          </th> <td>0.68</td>\n",
              "</tr>\n",
              "<tr>\n",
              "  <th>Heteroskedasticity (H):</th> <td>1.87</td> <th>  Skew:              </th> <td>0.25</td>\n",
              "</tr>\n",
              "<tr>\n",
              "  <th>Prob(H) (two-sided):</th>    <td>0.21</td> <th>  Kurtosis:          </th> <td>3.32</td>\n",
              "</tr>\n",
              "</table><br/><br/>Warnings:<br/>[1] Covariance matrix calculated using the outer product of gradients (complex-step)."
            ]
          },
          "metadata": {},
          "execution_count": 31
        }
      ]
    },
    {
      "cell_type": "code",
      "source": [
        "start_index=0\n",
        "end_index=len(X_train)-1\n",
        "train_predction=result.predict(start_index,end_index)\n",
        "train_predction"
      ],
      "metadata": {
        "id": "BreCJceTwVaT",
        "outputId": "8f5c823b-667e-4e70-c16a-5bd3f258b88a",
        "colab": {
          "base_uri": "https://localhost:8080/"
        }
      },
      "id": "BreCJceTwVaT",
      "execution_count": 32,
      "outputs": [
        {
          "output_type": "execute_result",
          "data": {
            "text/plain": [
              "0      0.000000\n",
              "1     12.999714\n",
              "2     13.999956\n",
              "3      8.000264\n",
              "4      9.999912\n",
              "        ...    \n",
              "60    16.275754\n",
              "61    22.939744\n",
              "62    23.115822\n",
              "63     9.896692\n",
              "64    12.834986\n",
              "Name: predicted_mean, Length: 65, dtype: float64"
            ]
          },
          "metadata": {},
          "execution_count": 32
        }
      ]
    },
    {
      "cell_type": "code",
      "source": [
        "st_index=len(X_train)\n",
        "ed_index=len(data)-1\n",
        "predction=result.predict(st_index,ed_index)\n",
        "predction"
      ],
      "metadata": {
        "id": "B4v_NVkxwYYP",
        "outputId": "bd0512cd-d3c0-4522-e45b-e6b1a8b3cec8",
        "colab": {
          "base_uri": "https://localhost:8080/"
        }
      },
      "id": "B4v_NVkxwYYP",
      "execution_count": 33,
      "outputs": [
        {
          "output_type": "execute_result",
          "data": {
            "text/plain": [
              "65    15.103583\n",
              "66     8.711692\n",
              "67    15.080735\n",
              "68     7.088287\n",
              "69    19.306984\n",
              "70     8.335234\n",
              "71    13.317429\n",
              "72    15.699013\n",
              "73    12.968754\n",
              "74    12.928101\n",
              "75    15.279202\n",
              "76    13.785637\n",
              "77    13.816510\n",
              "78    12.123707\n",
              "79    22.912574\n",
              "80    13.446280\n",
              "81    16.545209\n",
              "82    16.798843\n",
              "83    14.556582\n",
              "84    16.235723\n",
              "85    19.187115\n",
              "86    21.040917\n",
              "87    12.589813\n",
              "88    10.185214\n",
              "89    12.774935\n",
              "90     9.887961\n",
              "91    16.620542\n",
              "92     9.816600\n",
              "93    20.131370\n",
              "94     9.085035\n",
              "95     9.793284\n",
              "96    14.144057\n",
              "97    14.126377\n",
              "98    13.680233\n",
              "Name: predicted_mean, dtype: float64"
            ]
          },
          "metadata": {},
          "execution_count": 33
        }
      ]
    },
    {
      "cell_type": "code",
      "source": [
        "predction.plot(legend=True)\n",
        "X_test[\"earthquakes_per_year\"].plot(legend=True)"
      ],
      "metadata": {
        "id": "zceN3gwTwbfy",
        "outputId": "e825214f-9eef-4379-a376-45c2be8d6748",
        "colab": {
          "base_uri": "https://localhost:8080/",
          "height": 462
        }
      },
      "id": "zceN3gwTwbfy",
      "execution_count": 34,
      "outputs": [
        {
          "output_type": "execute_result",
          "data": {
            "text/plain": [
              "<Axes: >"
            ]
          },
          "metadata": {},
          "execution_count": 34
        },
        {
          "output_type": "display_data",
          "data": {
            "text/plain": [
              "<Figure size 1100x500 with 1 Axes>"
            ],
            "image/png": "[encoded data removed]"
          },
          "metadata": {}
        }
      ]
    },
    {
      "cell_type": "code",
      "source": [
        "import math\n",
        "from sklearn.metrics import mean_squared_error"
      ],
      "metadata": {
        "id": "O1bQMrNkweBx"
      },
      "id": "O1bQMrNkweBx",
      "execution_count": 35,
      "outputs": []
    },
    {
      "cell_type": "code",
      "source": [
        "trainScore=math.sqrt(mean_squared_error(X_train['earthquakes_per_year'],train_predction))\n",
        "testScore=math.sqrt(mean_squared_error(X_test[\"earthquakes_per_year\"],predction))\n",
        "trainScore,testScore"
      ],
      "metadata": {
        "id": "FmP_nT82whAQ",
        "outputId": "1e5ac604-c629-4c73-e957-b0c647d18316",
        "colab": {
          "base_uri": "https://localhost:8080/"
        }
      },
      "id": "FmP_nT82whAQ",
      "execution_count": 36,
      "outputs": [
        {
          "output_type": "execute_result",
          "data": {
            "text/plain": [
              "(8.008576106063027, 8.829260153122172)"
            ]
          },
          "metadata": {},
          "execution_count": 36
        }
      ]
    },
    {
      "cell_type": "code",
      "source": [
        "forcast=result.predict(start=len(data),\n",
        "                      end=(len(data)-1)+3*12,\n",
        "                      typ=\"levels\").rename('Forecast')"
      ],
      "metadata": {
        "id": "VNTi16w7wkGA"
      },
      "id": "VNTi16w7wkGA",
      "execution_count": 37,
      "outputs": []
    },
    {
      "cell_type": "code",
      "source": [
        "plt.figure(figsize=(12,8))\n",
        "plt.plot(X_train[\"earthquakes_per_year\"],label=\"Training\",color='green')\n",
        "plt.plot(X_test[\"earthquakes_per_year\"],label=\"Test\",color='blue')\n",
        "plt.plot(forcast,label=\"Forecast\",color=\"red\")\n",
        "plt.legend(loc=\"upper left\")\n",
        "     "
      ],
      "metadata": {
        "id": "we3mmL3hwm6x",
        "outputId": "2516bdac-73e1-4ac9-991e-700824c12dc8",
        "colab": {
          "base_uri": "https://localhost:8080/",
          "height": 686
        }
      },
      "id": "we3mmL3hwm6x",
      "execution_count": 38,
      "outputs": [
        {
          "output_type": "execute_result",
          "data": {
            "text/plain": [
              "<matplotlib.legend.Legend at 0x7f75d07831f0>"
            ]
          },
          "metadata": {},
          "execution_count": 38
        },
        {
          "output_type": "display_data",
          "data": {
            "text/plain": [
              "<Figure size 1200x800 with 1 Axes>"
            ],
            "image/png": "[encoded data removed]"
          },
          "metadata": {}
        }
      ]
    }
  ],
  "metadata": {
    "kernelspec": {
      "display_name": "Python 3",
      "language": "python",
      "name": "python3"
    },
    "language_info": {
      "codemirror_mode": {
        "name": "ipython",
        "version": 3
      },
      "file_extension": ".py",
      "mimetype": "text/x-python",
      "name": "python",
      "nbconvert_exporter": "python",
      "pygments_lexer": "ipython3",
      "version": "3.8.8"
    },
    "colab": {
      "provenance": []
    }
  },
  "nbformat": 4,
  "nbformat_minor": 5
}